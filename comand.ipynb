{
 "cells": [
  {
   "cell_type": "code",
   "execution_count": 1,
   "id": "8d3dc9a5-71c8-469b-a1b1-baf80866f90f",
   "metadata": {},
   "outputs": [],
   "source": [
    "txt =\"hello world\"\n",
    "txt1 = \"\"\"python\"\"\"\n",
    "txt2 = '''javascript'''\n",
    "txt3 ='php'"
   ]
  },
  {
   "cell_type": "code",
   "execution_count": 2,
   "id": "9e0a2984",
   "metadata": {},
   "outputs": [
    {
     "data": {
      "text/plain": [
       "str"
      ]
     },
     "execution_count": 2,
     "metadata": {},
     "output_type": "execute_result"
    }
   ],
   "source": [
    "type(txt)"
   ]
  },
  {
   "cell_type": "code",
   "execution_count": 3,
   "id": "3a14190e",
   "metadata": {},
   "outputs": [
    {
     "name": "stdout",
     "output_type": "stream",
     "text": [
      "11\n"
     ]
    }
   ],
   "source": [
    "print(len(txt))"
   ]
  },
  {
   "cell_type": "code",
   "execution_count": 4,
   "id": "8d68d5e4",
   "metadata": {},
   "outputs": [
    {
     "data": {
      "text/plain": [
       "'hello w'"
      ]
     },
     "execution_count": 4,
     "metadata": {},
     "output_type": "execute_result"
    }
   ],
   "source": [
    "txt[:7]"
   ]
  },
  {
   "cell_type": "code",
   "execution_count": 5,
   "id": "3cd03b42",
   "metadata": {},
   "outputs": [
    {
     "data": {
      "text/plain": [
       "'llo w'"
      ]
     },
     "execution_count": 5,
     "metadata": {},
     "output_type": "execute_result"
    }
   ],
   "source": [
    "txt[2:7]"
   ]
  },
  {
   "cell_type": "code",
   "execution_count": 6,
   "id": "52c07eb9",
   "metadata": {},
   "outputs": [
    {
     "data": {
      "text/plain": [
       "' world'"
      ]
     },
     "execution_count": 6,
     "metadata": {},
     "output_type": "execute_result"
    }
   ],
   "source": [
    "txt[5:]"
   ]
  },
  {
   "cell_type": "code",
   "execution_count": 7,
   "id": "f104c1e1",
   "metadata": {},
   "outputs": [
    {
     "name": "stdout",
     "output_type": "stream",
     "text": [
      "HELLO WORLD\n"
     ]
    }
   ],
   "source": [
    "print(txt.upper())"
   ]
  },
  {
   "cell_type": "code",
   "execution_count": 8,
   "id": "08697719",
   "metadata": {},
   "outputs": [
    {
     "name": "stdout",
     "output_type": "stream",
     "text": [
      "hello world\n"
     ]
    }
   ],
   "source": [
    "print(txt.lower())"
   ]
  },
  {
   "cell_type": "code",
   "execution_count": 16,
   "id": "2c7a46d0",
   "metadata": {},
   "outputs": [
    {
     "data": {
      "text/plain": [
       "'   haiii aswin   '"
      ]
     },
     "execution_count": 16,
     "metadata": {},
     "output_type": "execute_result"
    }
   ],
   "source": [
    "x = \"   haiii aswin   \"\n",
    "x"
   ]
  },
  {
   "cell_type": "code",
   "execution_count": 12,
   "id": "02f2bedc",
   "metadata": {},
   "outputs": [],
   "source": [
    "y = x.strip()"
   ]
  },
  {
   "cell_type": "code",
   "execution_count": 15,
   "id": "1797731d",
   "metadata": {},
   "outputs": [
    {
     "data": {
      "text/plain": [
       "'hello'"
      ]
     },
     "execution_count": 15,
     "metadata": {},
     "output_type": "execute_result"
    }
   ],
   "source": [
    "y"
   ]
  },
  {
   "cell_type": "code",
   "execution_count": 18,
   "id": "f0ff1e66",
   "metadata": {},
   "outputs": [
    {
     "name": "stdout",
     "output_type": "stream",
     "text": [
      "i like apple and i dont like orange\n"
     ]
    }
   ],
   "source": [
    "print(\"i like {} and i dont like {}\".format(\"apple\",\"orange\"))"
   ]
  },
  {
   "cell_type": "code",
   "execution_count": 19,
   "id": "3a380875",
   "metadata": {},
   "outputs": [
    {
     "name": "stdout",
     "output_type": "stream",
     "text": [
      "enter your age: 25\n"
     ]
    },
    {
     "data": {
      "text/plain": [
       "'your age is 25'"
      ]
     },
     "execution_count": 19,
     "metadata": {},
     "output_type": "execute_result"
    }
   ],
   "source": [
    "age = input(\"enter your age: \")\n",
    "output = \"your age is {}\".format(age)\n",
    "output"
   ]
  },
  {
   "cell_type": "code",
   "execution_count": 20,
   "id": "8ad7eef7",
   "metadata": {},
   "outputs": [
    {
     "data": {
      "text/plain": [
       "str"
      ]
     },
     "execution_count": 20,
     "metadata": {},
     "output_type": "execute_result"
    }
   ],
   "source": [
    "type(output)"
   ]
  },
  {
   "cell_type": "code",
   "execution_count": null,
   "id": "1afa2763",
   "metadata": {},
   "outputs": [],
   "source": []
  }
 ],
 "metadata": {
  "kernelspec": {
   "display_name": "Python 3 (ipykernel)",
   "language": "python",
   "name": "python3"
  },
  "language_info": {
   "codemirror_mode": {
    "name": "ipython",
    "version": 3
   },
   "file_extension": ".py",
   "mimetype": "text/x-python",
   "name": "python",
   "nbconvert_exporter": "python",
   "pygments_lexer": "ipython3",
   "version": "3.11.5"
  }
 },
 "nbformat": 4,
 "nbformat_minor": 5
}

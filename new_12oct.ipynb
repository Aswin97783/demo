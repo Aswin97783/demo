{
 "cells": [
  {
   "cell_type": "code",
   "execution_count": 3,
   "id": "d06a583a-3d4e-43b4-bd0c-d346205d7d36",
   "metadata": {},
   "outputs": [
    {
     "name": "stdout",
     "output_type": "stream",
     "text": [
      "hello world\n"
     ]
    }
   ],
   "source": [
    "print(\"hello world\")"
   ]
  },
  {
   "cell_type": "code",
   "execution_count": 5,
   "id": "5981cce3-14bd-4441-98b3-974d5dbe95a4",
   "metadata": {},
   "outputs": [],
   "source": [
    "x= 10\n"
   ]
  },
  {
   "cell_type": "code",
   "execution_count": 6,
   "id": "2c774f29-356d-452c-a2e7-df3c633e300f",
   "metadata": {},
   "outputs": [
    {
     "data": {
      "text/plain": [
       "10"
      ]
     },
     "execution_count": 6,
     "metadata": {},
     "output_type": "execute_result"
    }
   ],
   "source": [
    "x"
   ]
  },
  {
   "cell_type": "code",
   "execution_count": 7,
   "id": "5a9c2fce-5792-4b3f-a5db-52b1c70bcbd9",
   "metadata": {},
   "outputs": [],
   "source": [
    "y= 30"
   ]
  },
  {
   "cell_type": "code",
   "execution_count": 8,
   "id": "28827a35-4daf-4949-9186-0efb6189dc80",
   "metadata": {},
   "outputs": [
    {
     "data": {
      "text/plain": [
       "30"
      ]
     },
     "execution_count": 8,
     "metadata": {},
     "output_type": "execute_result"
    }
   ],
   "source": [
    "y"
   ]
  },
  {
   "cell_type": "code",
   "execution_count": 9,
   "id": "32a89c7c-9614-4b01-8e80-5dbe4d879524",
   "metadata": {},
   "outputs": [],
   "source": [
    "x=\"jijo Aswin\"\n"
   ]
  },
  {
   "cell_type": "code",
   "execution_count": 10,
   "id": "5aa2cdd4-b6f7-4bd4-95db-84fb6223e406",
   "metadata": {},
   "outputs": [
    {
     "name": "stdout",
     "output_type": "stream",
     "text": [
      "aswin\n"
     ]
    }
   ],
   "source": [
    "print(x)"
   ]
  },
  {
   "cell_type": "code",
   "execution_count": null,
   "id": "749ef623-7f59-427e-9565-f73fdf347a3b",
   "metadata": {},
   "outputs": [],
   "source": []
  }
 ],
 "metadata": {
  "kernelspec": {
   "display_name": "Python 3 (ipykernel)",
   "language": "python",
   "name": "python3"
  },
  "language_info": {
   "codemirror_mode": {
    "name": "ipython",
    "version": 3
   },
   "file_extension": ".py",
   "mimetype": "text/x-python",
   "name": "python",
   "nbconvert_exporter": "python",
   "pygments_lexer": "ipython3",
   "version": "3.11.5"
  }
 },
 "nbformat": 4,
 "nbformat_minor": 5
}

{
 "cells": [
  {
   "cell_type": "code",
   "execution_count": 1,
   "id": "1797e314-8401-434b-8a60-198d24f3264b",
   "metadata": {},
   "outputs": [],
   "source": [
    "x = 1.0"
   ]
  },
  {
   "cell_type": "code",
   "execution_count": 2,
   "id": "103447c8-203e-4f09-907b-9016e2b9b966",
   "metadata": {},
   "outputs": [
    {
     "data": {
      "text/plain": [
       "float"
      ]
     },
     "execution_count": 2,
     "metadata": {},
     "output_type": "execute_result"
    }
   ],
   "source": [
    "x\n",
    "type(x)"
   ]
  },
  {
   "cell_type": "code",
   "execution_count": 4,
   "id": "485a1543-57f3-4fd9-9801-a85415c82ff4",
   "metadata": {},
   "outputs": [
    {
     "data": {
      "text/plain": [
       "complex"
      ]
     },
     "execution_count": 4,
     "metadata": {},
     "output_type": "execute_result"
    }
   ],
   "source": [
    "y = 1j\n",
    "type(y)"
   ]
  },
  {
   "cell_type": "code",
   "execution_count": 5,
   "id": "550aaf34-3849-4210-a813-f13980af75d8",
   "metadata": {},
   "outputs": [
    {
     "data": {
      "text/plain": [
       "int"
      ]
     },
     "execution_count": 5,
     "metadata": {},
     "output_type": "execute_result"
    }
   ],
   "source": [
    "int_value = 100\n",
    "type(int_value)"
   ]
  },
  {
   "cell_type": "code",
   "execution_count": 6,
   "id": "0c3e9bb3-24a0-42e6-b764-5b826837ccbf",
   "metadata": {},
   "outputs": [],
   "source": [
    "float_value = float(int_value)"
   ]
  },
  {
   "cell_type": "code",
   "execution_count": 7,
   "id": "e976b43b-f7c3-4c4c-ace7-396183ebf210",
   "metadata": {},
   "outputs": [
    {
     "data": {
      "text/plain": [
       "100.0"
      ]
     },
     "execution_count": 7,
     "metadata": {},
     "output_type": "execute_result"
    }
   ],
   "source": [
    "float_value"
   ]
  },
  {
   "cell_type": "code",
   "execution_count": 8,
   "id": "8239d4c3-0a33-4879-9dcf-f2143eb8f7ae",
   "metadata": {},
   "outputs": [
    {
     "data": {
      "text/plain": [
       "float"
      ]
     },
     "execution_count": 8,
     "metadata": {},
     "output_type": "execute_result"
    }
   ],
   "source": [
    "type(float_value)"
   ]
  },
  {
   "cell_type": "code",
   "execution_count": null,
   "id": "ca10d151-80a1-4c0c-ac37-e2afc64930ce",
   "metadata": {},
   "outputs": [],
   "source": []
  }
 ],
 "metadata": {
  "kernelspec": {
   "display_name": "Python 3 (ipykernel)",
   "language": "python",
   "name": "python3"
  },
  "language_info": {
   "codemirror_mode": {
    "name": "ipython",
    "version": 3
   },
   "file_extension": ".py",
   "mimetype": "text/x-python",
   "name": "python",
   "nbconvert_exporter": "python",
   "pygments_lexer": "ipython3",
   "version": "3.11.5"
  }
 },
 "nbformat": 4,
 "nbformat_minor": 5
}
